{
 "cells": [
  {
   "cell_type": "code",
   "execution_count": 9,
   "metadata": {},
   "outputs": [],
   "source": [
    "translate_fr_en = {\n",
    "    \"chien\": \"dog\",\n",
    "    \"chat\": \"cat\",\n",
    "    \"cheval\": \"horse\",\n",
    "    \"singe\": \"monkey\",\n",
    "    \"écureuil\": \"squirrel\",\n",
    "    \"moineau\": \"sparrow\",\n",
    "}\n",
    "inventory = {\n",
    "    \"apples\": 430,\n",
    "    \"bananas\": 3120,\n",
    "    \"oranges\": 5205,\n",
    "    \"pears\": 2174,\n",
    "}\n",
    "dict3 = {\n",
    "    \"translate_fr_en\": translate_fr_en,\n",
    "    \"inventory\": inventory,\n",
    "}"
   ]
  },
  {
   "cell_type": "code",
   "execution_count": 10,
   "metadata": {},
   "outputs": [],
   "source": [
    "import numpy as np\n",
    "\n",
    "params = {\n",
    "    \"W1\": np.random.randn(10, 100),\n",
    "    \"b1\": np.random.randn(10, 1),\n",
    "    \"W2\": np.random.randn(10, 10),\n",
    "    \"b2\": np.random.randn(10, 1),\n",
    "}"
   ]
  },
  {
   "cell_type": "code",
   "execution_count": 14,
   "metadata": {},
   "outputs": [
    {
     "name": "stdout",
     "output_type": "stream",
     "text": [
      "dict_values([430, 3120, 5205, 2174, 45450])\n",
      "dict_keys(['apples', 'bananas', 'oranges', 'pears', 'cherries'])\n"
     ]
    }
   ],
   "source": [
    "print(inventory.values())\n",
    "print(inventory.keys())"
   ]
  },
  {
   "cell_type": "code",
   "execution_count": 18,
   "metadata": {},
   "outputs": [
    {
     "name": "stdout",
     "output_type": "stream",
     "text": [
      "{'apples': 430, 'bananas': 3120, 'oranges': 5205, 'pears': 2174, 'cherries': 45450}\n",
      "0\n"
     ]
    }
   ],
   "source": [
    "inventory[\"cherries\"] = 45450\n",
    "print(inventory)\n",
    "print(inventory.get(\"peaches\", 0))"
   ]
  },
  {
   "cell_type": "code",
   "execution_count": 20,
   "metadata": {},
   "outputs": [
    {
     "data": {
      "text/plain": [
       "430"
      ]
     },
     "execution_count": 20,
     "metadata": {},
     "output_type": "execute_result"
    }
   ],
   "source": [
    "cities = [\n",
    "    \"Paris\", \n",
    "    \"London\",\n",
    "    \"Vienna\",\n",
    "    \"Brussels\",\n",
    "]\n",
    "newdict = dict.fromkeys(cities, 0)\n",
    "inventory.pop(\"apples\")"
   ]
  },
  {
   "cell_type": "code",
   "execution_count": 23,
   "metadata": {},
   "outputs": [
    {
     "name": "stdout",
     "output_type": "stream",
     "text": [
      "chien dog\n",
      "chat cat\n",
      "cheval horse\n",
      "singe monkey\n",
      "écureuil squirrel\n",
      "moineau sparrow\n"
     ]
    }
   ],
   "source": [
    "for fr, en in translate_fr_en.items():\n",
    "    print(fr, en)"
   ]
  },
  {
   "cell_type": "code",
   "execution_count": 24,
   "metadata": {},
   "outputs": [],
   "source": [
    "numbers = {\n",
    "    \"positive\": [],\n",
    "    \"negative\": [],\n",
    "}\n",
    "\n",
    "def sort_num(dic, num):\n",
    "    key = \"positive\" if num >= 0 else \"negative\"\n",
    "    dic[key].append(num)"
   ]
  },
  {
   "cell_type": "code",
   "execution_count": 25,
   "metadata": {},
   "outputs": [],
   "source": [
    "sort_num(numbers, 10)\n",
    "sort_num(numbers, 24)\n",
    "sort_num(numbers, -5)\n",
    "sort_num(numbers, 15)"
   ]
  }
 ],
 "metadata": {
  "kernelspec": {
   "display_name": ".env",
   "language": "python",
   "name": "python3"
  },
  "language_info": {
   "codemirror_mode": {
    "name": "ipython",
    "version": 3
   },
   "file_extension": ".py",
   "mimetype": "text/x-python",
   "name": "python",
   "nbconvert_exporter": "python",
   "pygments_lexer": "ipython3",
   "version": "3.12.3"
  }
 },
 "nbformat": 4,
 "nbformat_minor": 2
}
