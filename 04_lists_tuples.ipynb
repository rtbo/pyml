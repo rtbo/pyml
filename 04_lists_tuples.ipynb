{
 "cells": [
  {
   "cell_type": "code",
   "execution_count": 39,
   "metadata": {},
   "outputs": [],
   "source": [
    "# Lists\n",
    "nums = [1, 4, 7, 34, 94]\n",
    "cities = [\n",
    "    \"Paris\", \n",
    "    \"London\",\n",
    "    \"Vienna\",\n",
    "    \"Brussels\",\n",
    "]\n",
    "compound = [nums, cities]"
   ]
  },
  {
   "cell_type": "code",
   "execution_count": 40,
   "metadata": {},
   "outputs": [],
   "source": [
    "# Tuples\n",
    "tup = (1, 4, 7, 1, 12)"
   ]
  },
  {
   "cell_type": "code",
   "execution_count": 41,
   "metadata": {},
   "outputs": [],
   "source": [
    "# Strings\n",
    "\n",
    "name = \"Thebault\""
   ]
  },
  {
   "cell_type": "code",
   "execution_count": 42,
   "metadata": {},
   "outputs": [
    {
     "name": "stdout",
     "output_type": "stream",
     "text": [
      "Vienna\n",
      "['Paris', 'London', 'Vienna']\n",
      "['Vienna', 'Brussels']\n",
      "['Paris', 'Vienna']\n",
      "['Brussels', 'Vienna', 'London', 'Paris']\n",
      "hebau\n"
     ]
    }
   ],
   "source": [
    "# Indexing, Slicing\n",
    "\n",
    "print(cities[2])\n",
    "print(cities[:3])\n",
    "print(cities[2:])\n",
    "print(cities[::2])\n",
    "print(cities[::-1])\n",
    "print(name[1:6])"
   ]
  },
  {
   "cell_type": "code",
   "execution_count": 43,
   "metadata": {},
   "outputs": [],
   "source": [
    "# Methods\n",
    "\n",
    "cities.append(\"Amsterdam\")\n",
    "cities.insert(1, \"Berlin\")\n",
    "cities.sort(reverse=True)"
   ]
  },
  {
   "cell_type": "code",
   "execution_count": 44,
   "metadata": {},
   "outputs": [
    {
     "name": "stdout",
     "output_type": "stream",
     "text": [
      "['Vienna', 'Paris', 'London', 'Brussels', 'Berlin', 'Amsterdam']\n",
      "False\n",
      "1 Vienna\n",
      "2 Paris\n",
      "3 London\n",
      "4 Brussels\n",
      "5 Berlin\n",
      "6 Amsterdam\n"
     ]
    }
   ],
   "source": [
    "print(cities)\n",
    "\n",
    "print(\"Belfast\" in cities)\n",
    "\n",
    "for i, city in enumerate(cities):\n",
    "    print(i+1, city)"
   ]
  },
  {
   "cell_type": "code",
   "execution_count": 45,
   "metadata": {},
   "outputs": [],
   "source": [
    "def fibonacci(n):\n",
    "    a, b = 0, 1\n",
    "    res = [a]\n",
    "    while b < n:\n",
    "        a, b = b, a + b\n",
    "        res.append(a)\n",
    "    return res"
   ]
  },
  {
   "cell_type": "code",
   "execution_count": 46,
   "metadata": {},
   "outputs": [
    {
     "name": "stdout",
     "output_type": "stream",
     "text": [
      "[0, 1, 1, 2, 3, 5, 8, 13, 21, 34, 55, 89, 144, 233, 377, 610, 987, 1597, 2584, 4181, 6765, 10946, 17711, 28657, 46368, 75025]\n"
     ]
    }
   ],
   "source": [
    "print(fibonacci(100000))"
   ]
  }
 ],
 "metadata": {
  "kernelspec": {
   "display_name": ".env",
   "language": "python",
   "name": "python3"
  },
  "language_info": {
   "codemirror_mode": {
    "name": "ipython",
    "version": 3
   },
   "file_extension": ".py",
   "mimetype": "text/x-python",
   "name": "python",
   "nbconvert_exporter": "python",
   "pygments_lexer": "ipython3",
   "version": "3.12.3"
  }
 },
 "nbformat": 4,
 "nbformat_minor": 2
}
